{
 "cells": [
  {
   "cell_type": "code",
   "execution_count": 2,
   "metadata": {},
   "outputs": [
    {
     "name": "stdout",
     "output_type": "stream",
     "text": [
      "imature\n"
     ]
    }
   ],
   "source": [
    "age=int(input(\"enter number: \"))\n",
    "if(age>18):\n",
    "  print(\"mature\")\n",
    "else:\n",
    "  print(\"imature\")\n"
   ]
  },
  {
   "cell_type": "code",
   "execution_count": 1,
   "metadata": {},
   "outputs": [
    {
     "data": {
      "text/plain": [
       "'destination.txt'"
      ]
     },
     "execution_count": 1,
     "metadata": {},
     "output_type": "execute_result"
    }
   ],
   "source": [
    "## high level operations on files and collection of files\n",
    "import shutil\n",
    "shutil.copyfile('source.txt','destination.txt')\n"
   ]
  },
  {
   "cell_type": "code",
   "execution_count": 2,
   "metadata": {},
   "outputs": [
    {
     "name": "stdout",
     "output_type": "stream",
     "text": [
      "{\"name\": \"krish\", \"age\": 21}\n"
     ]
    }
   ],
   "source": [
    "## data serialization\n",
    "import json\n",
    "data={'name':'krish','age':21}\n",
    "json_str=json.dumps(data)\n",
    "print(json_str)"
   ]
  },
  {
   "cell_type": "code",
   "execution_count": 10,
   "metadata": {},
   "outputs": [],
   "source": [
    "##csv\n",
    "import csv"
   ]
  },
  {
   "cell_type": "code",
   "execution_count": 12,
   "metadata": {},
   "outputs": [
    {
     "name": "stdout",
     "output_type": "stream",
     "text": [
      "['name', 'age']\n",
      "['ravi', '21']\n"
     ]
    }
   ],
   "source": [
    "import csv\n",
    "\n",
    "# Writing to the CSV file\n",
    "with open('example.csv', mode='w', newline='') as file:\n",
    "    writer = csv.writer(file)\n",
    "    writer.writerow(['name', 'age'])  # Fixed method name\n",
    "    writer.writerow(['ravi', '21'])\n",
    "\n",
    "# Reading from the CSV file\n",
    "with open('example.csv', mode='r') as file:\n",
    "    reader = csv.reader(file)\n",
    "    for row in reader:\n",
    "        print(row)\n"
   ]
  },
  {
   "cell_type": "code",
   "execution_count": 14,
   "metadata": {},
   "outputs": [
    {
     "name": "stdout",
     "output_type": "stream",
     "text": [
      "2024-12-15 20:32:23.453677\n",
      "2024-12-14 20:32:23.453677\n"
     ]
    }
   ],
   "source": [
    "##datetime\n",
    "##timedelta=difference between date\n",
    "from datetime import datetime,timedelta\n",
    "now=datetime.now()\n",
    "print(now)\n",
    "yesterday=now-timedelta(days=1)\n",
    "print(yesterday)"
   ]
  },
  {
   "cell_type": "code",
   "execution_count": 15,
   "metadata": {},
   "outputs": [],
   "source": [
    "## Regular expression\n",
    "import re"
   ]
  },
  {
   "cell_type": "code",
   "execution_count": 16,
   "metadata": {},
   "outputs": [
    {
     "name": "stdout",
     "output_type": "stream",
     "text": [
      "hello sir,\n",
      "work hard,\n",
      "work hard.\n"
     ]
    }
   ],
   "source": [
    "##Read a whole file\n",
    "with open('example.txt','r') as file:\n",
    "    content=file.read()\n",
    "    print(content)\n",
    "    "
   ]
  },
  {
   "cell_type": "code",
   "execution_count": 18,
   "metadata": {},
   "outputs": [],
   "source": [
    "## writing a file(overwriting)\n",
    "with open('example.txt','w') as file:\n",
    "    file.write(\"hello world\")\n",
    "    file.write(\"my name is ravi kumar\")\n"
   ]
  },
  {
   "cell_type": "code",
   "execution_count": 20,
   "metadata": {},
   "outputs": [],
   "source": [
    "## writing file (without overriding )\n",
    "with open('example.txt','a') as file:\n",
    "    file.write(\"\\n this is appende \")"
   ]
  },
  {
   "cell_type": "code",
   "execution_count": 3,
   "metadata": {},
   "outputs": [
    {
     "name": "stdout",
     "output_type": "stream",
     "text": [
      "{2} {11} {66}\n"
     ]
    }
   ],
   "source": [
    "##Read a text file and count the number of lines,words,and characters\n",
    "def count_text_file(file_path):\n",
    "    with open(file_path,'r') as  file:\n",
    "        lines=file.readlines()\n",
    "        line_count=len(lines)\n",
    "        word_count=sum(len(line.split()) for line in lines)\n",
    "        char_count=sum(len(line) for line in lines)\n",
    "    return line_count,word_count,char_count\n",
    "file_path='example.txt'\n",
    "lines,words,characters=count_text_file(file_path)\n",
    "print({lines},{words},{characters})\n",
    "    \n"
   ]
  },
  {
   "cell_type": "code",
   "execution_count": null,
   "metadata": {},
   "outputs": [],
   "source": [
    "#move the file cursor to the beginner\n",
    "file.seek(0)"
   ]
  },
  {
   "cell_type": "code",
   "execution_count": 6,
   "metadata": {},
   "outputs": [],
   "source": [
    "##create a new directory\n",
    "import os\n",
    "new_directory=\"package\"\n",
    "os.mkdir(new_directory)"
   ]
  },
  {
   "cell_type": "code",
   "execution_count": 7,
   "metadata": {},
   "outputs": [],
   "source": [
    "os.rmdir(\"package\")\n"
   ]
  },
  {
   "cell_type": "code",
   "execution_count": 8,
   "metadata": {},
   "outputs": [
    {
     "data": {
      "text/plain": [
       "['basicpython.ipynb',\n",
       " 'destination.txt',\n",
       " 'example.csv',\n",
       " 'example.txt',\n",
       " 'source.txt']"
      ]
     },
     "execution_count": 8,
     "metadata": {},
     "output_type": "execute_result"
    }
   ],
   "source": [
    "os.listdir('.')"
   ]
  },
  {
   "cell_type": "code",
   "execution_count": null,
   "metadata": {},
   "outputs": [],
   "source": []
  },
  {
   "cell_type": "code",
   "execution_count": null,
   "metadata": {},
   "outputs": [],
   "source": []
  }
 ],
 "metadata": {
  "kernelspec": {
   "display_name": "Python 3",
   "language": "python",
   "name": "python3"
  },
  "language_info": {
   "codemirror_mode": {
    "name": "ipython",
    "version": 3
   },
   "file_extension": ".py",
   "mimetype": "text/x-python",
   "name": "python",
   "nbconvert_exporter": "python",
   "pygments_lexer": "ipython3",
   "version": "3.12.0"
  }
 },
 "nbformat": 4,
 "nbformat_minor": 2
}
